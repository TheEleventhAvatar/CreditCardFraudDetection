{
 "cells": [
  {
   "cell_type": "code",
   "execution_count": 11,
   "id": "d0feaa20-de2d-4b52-a96c-17083e858dec",
   "metadata": {},
   "outputs": [
    {
     "data": {
      "text/plain": [
       "(array([[56861,     3],\n",
       "        [   25,    73]], dtype=int64),\n",
       " {'0': {'precision': 0.9995605245578877,\n",
       "   'recall': 0.9999472425436128,\n",
       "   'f1-score': 0.9997538461538461,\n",
       "   'support': 56864.0},\n",
       "  '1': {'precision': 0.9605263157894737,\n",
       "   'recall': 0.7448979591836735,\n",
       "   'f1-score': 0.8390804597701149,\n",
       "   'support': 98.0},\n",
       "  'accuracy': 0.9995084442259752,\n",
       "  'macro avg': {'precision': 0.9800434201736807,\n",
       "   'recall': 0.8724226008636431,\n",
       "   'f1-score': 0.9194171529619806,\n",
       "   'support': 56962.0},\n",
       "  'weighted avg': {'precision': 0.9994933683404215,\n",
       "   'recall': 0.9995084442259752,\n",
       "   'f1-score': 0.9994774163960145,\n",
       "   'support': 56962.0}})"
      ]
     },
     "execution_count": 11,
     "metadata": {},
     "output_type": "execute_result"
    }
   ],
   "source": [
    "from sklearn.model_selection import train_test_split\n",
    "from sklearn.preprocessing import StandardScaler\n",
    "from sklearn.ensemble import RandomForestClassifier\n",
    "from sklearn.metrics import classification_report, confusion_matrix\n",
    "import numpy as np\n",
    "import pandas as pd\n",
    "\n",
    "df=pd.read_csv(\"creditcard.csv\")\n",
    "# Split the data into features and target\n",
    "X = df.drop(columns=['Class'])\n",
    "y = df['Class']\n",
    "\n",
    "# Normalize 'Time' and 'Amount'\n",
    "scaler = StandardScaler()\n",
    "X[['Time', 'Amount']] = scaler.fit_transform(X[['Time', 'Amount']])\n",
    "\n",
    "# Train/test split with stratification\n",
    "X_train, X_test, y_train, y_test = train_test_split(X, y, test_size=0.2, stratify=y, random_state=42)\n",
    "\n",
    "# Train Random Forest Classifier\n",
    "clf = RandomForestClassifier(n_estimators=100, random_state=42, class_weight='balanced')\n",
    "clf.fit(X_train, y_train)\n",
    "\n",
    "# Predictions\n",
    "y_pred = clf.predict(X_test)\n",
    "\n",
    "# Performance metrics\n",
    "conf_matrix = confusion_matrix(y_test, y_pred)\n",
    "class_report = classification_report(y_test, y_pred, output_dict=True)\n",
    "\n",
    "conf_matrix, class_report"
   ]
  },
  {
   "cell_type": "code",
   "execution_count": null,
   "id": "31e0867c-c1f1-4a1e-9901-148304be61c3",
   "metadata": {},
   "outputs": [],
   "source": []
  }
 ],
 "metadata": {
  "kernelspec": {
   "display_name": "Python 3 (ipykernel)",
   "language": "python",
   "name": "python3"
  },
  "language_info": {
   "codemirror_mode": {
    "name": "ipython",
    "version": 3
   },
   "file_extension": ".py",
   "mimetype": "text/x-python",
   "name": "python",
   "nbconvert_exporter": "python",
   "pygments_lexer": "ipython3",
   "version": "3.12.4"
  }
 },
 "nbformat": 4,
 "nbformat_minor": 5
}
